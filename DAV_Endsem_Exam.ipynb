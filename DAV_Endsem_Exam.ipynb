{
  "nbformat": 4,
  "nbformat_minor": 0,
  "metadata": {
    "colab": {
      "provenance": []
    },
    "kernelspec": {
      "name": "python3",
      "display_name": "Python 3"
    },
    "language_info": {
      "name": "python"
    }
  },
  "cells": [
    {
      "cell_type": "markdown",
      "source": [
        "# DAV ENDSEM EXAM\n",
        "Dipean Dasgupta<br>\n",
        "202151188"
      ],
      "metadata": {
        "id": "QXg5XGwmdQHq"
      }
    },
    {
      "cell_type": "code",
      "execution_count": null,
      "metadata": {
        "id": "hF5YxEn5Z-qd"
      },
      "outputs": [],
      "source": [
        "import pandas as pd\n",
        "import numpy as np\n",
        "from scipy.stats import chi2_contingency\n",
        "from sklearn.utils import resample\n",
        "import statsmodels.api as sm\n",
        "from statsmodels.formula.api import ols"
      ]
    },
    {
      "cell_type": "code",
      "source": [
        "from google.colab import drive\n",
        "drive.mount('/content/drive')"
      ],
      "metadata": {
        "colab": {
          "base_uri": "https://localhost:8080/"
        },
        "id": "6Ipx-pnVdRIN",
        "outputId": "b324f41a-b6ed-498c-d827-95e6d53eba4a"
      },
      "execution_count": null,
      "outputs": [
        {
          "output_type": "stream",
          "name": "stdout",
          "text": [
            "Mounted at /content/drive\n"
          ]
        }
      ]
    },
    {
      "cell_type": "code",
      "source": [
        "DS1=pd.read_csv('/content/drive/MyDrive/CS312_DA/Bp.csv')\n",
        "DS2=pd.read_csv('/content/drive/MyDrive/CS312_DA/Islander_data.csv')\n",
        "DS3=pd.read_csv('/content/drive/MyDrive/CS312_DA/Mental_health.csv')"
      ],
      "metadata": {
        "id": "9bAEEfuIdTgX"
      },
      "execution_count": null,
      "outputs": []
    },
    {
      "cell_type": "code",
      "source": [
        "DF1=pd.DataFrame(DS1)"
      ],
      "metadata": {
        "id": "iJ7RDi7Nd3a2"
      },
      "execution_count": null,
      "outputs": []
    },
    {
      "cell_type": "markdown",
      "source": [
        "**Question1 Answer**"
      ],
      "metadata": {
        "id": "nU8ORH9-FAQT"
      }
    },
    {
      "cell_type": "code",
      "source": [
        "num_samples = 10000\n",
        "\n",
        "sample_size = 20\n",
        "\n",
        "def calculate_sample_mean(sample):\n",
        "    return np.mean(sample)\n",
        "\n",
        "sample_means = []\n",
        "for _ in range(num_samples):\n",
        "    sample = DF1['Physical_activity'].sample(sample_size, replace=False)\n",
        "    sample_mean = calculate_sample_mean(sample)\n",
        "    sample_means.append(sample_mean)\n",
        "\n",
        "standard_error = np.std(sample_means) / np.sqrt(sample_size)\n",
        "\n",
        "print(len(sample_means))\n",
        "print(\"Standard Error:\", standard_error)"
      ],
      "metadata": {
        "colab": {
          "base_uri": "https://localhost:8080/"
        },
        "id": "hUHdrHI0qMCj",
        "outputId": "71f033f1-8611-4388-b38a-3ccce19244b8"
      },
      "execution_count": null,
      "outputs": [
        {
          "output_type": "stream",
          "name": "stdout",
          "text": [
            "10000\n",
            "Standard Error: 694.4226732457788\n"
          ]
        }
      ]
    },
    {
      "cell_type": "markdown",
      "source": [
        "**Question2 Answer**"
      ],
      "metadata": {
        "id": "kbGVwdp2FFUC"
      }
    },
    {
      "cell_type": "code",
      "source": [
        "\n",
        "filt_bp = DF1[DF1['Blood_Pressure_Abnormality'] == 1]\n",
        "\n",
        "max_salt = filt_bp['salt_content_in_the_diet'].max()\n",
        "min_salt = filt_bp['salt_content_in_the_diet'].min()\n",
        "normalized_salt = (filt_bp['salt_content_in_the_diet'] - min_salt) / (max_salt - min_salt)\n",
        "filt_bp['normalized_salt'] = normalized_salt\n",
        "\n",
        "np.random.seed(0)\n",
        "bootstrap_samples = 10000\n",
        "salt_samples = []\n",
        "\n",
        "for _ in range(bootstrap_samples):\n",
        "    sample = resample(filt_bp['normalized_salt'])\n",
        "    salt_samples.append(sample.mean())\n",
        "\n",
        "confidence_interval = np.percentile(salt_samples, [2.5, 97.5])\n",
        "print('95% Confidence Interval for normalized salt content:', confidence_interval)"
      ],
      "metadata": {
        "colab": {
          "base_uri": "https://localhost:8080/"
        },
        "id": "NYz8f8wffzgT",
        "outputId": "c162046e-3e5b-4157-e43e-cdc976cb5d60"
      },
      "execution_count": null,
      "outputs": [
        {
          "output_type": "stream",
          "name": "stderr",
          "text": [
            "<ipython-input-21-f439f201b74f>:6: SettingWithCopyWarning: \n",
            "A value is trying to be set on a copy of a slice from a DataFrame.\n",
            "Try using .loc[row_indexer,col_indexer] = value instead\n",
            "\n",
            "See the caveats in the documentation: https://pandas.pydata.org/pandas-docs/stable/user_guide/indexing.html#returning-a-view-versus-a-copy\n",
            "  filtered_bp['normalized_salt'] = normalized_salt\n"
          ]
        },
        {
          "output_type": "stream",
          "name": "stdout",
          "text": [
            "95% Confidence Interval for normalized salt content: [0.48453159 0.52014007]\n"
          ]
        }
      ]
    },
    {
      "cell_type": "markdown",
      "source": [
        "**Question3 Answer**"
      ],
      "metadata": {
        "id": "CULPIXz2FIgZ"
      }
    },
    {
      "cell_type": "code",
      "source": [
        "DF3=pd.DataFrame(DS3)"
      ],
      "metadata": {
        "id": "FHNGts6ngpkt"
      },
      "execution_count": null,
      "outputs": []
    },
    {
      "cell_type": "code",
      "source": [
        "DF3"
      ],
      "metadata": {
        "id": "NLgRc87YhMKH"
      },
      "execution_count": null,
      "outputs": []
    },
    {
      "cell_type": "code",
      "source": [
        "DF3.rename(columns={\n",
        "    'Have you ever sought treatment for a mental health disorder from a mental health professional?': 'professional_help',\n",
        "    'What is your gender?': 'gender'\n",
        "}, inplace=True)\n",
        "gender_mapping = {\n",
        "    'Female': 'female',\n",
        "    'female': 'female',\n",
        "    'F': 'female',\n",
        "    'f': 'female',\n",
        "    'Woman': 'female',\n",
        "    'femalw': 'female',\n",
        "    'femail': 'female',\n",
        "    'My sex is female.': 'female',\n",
        "    'Woman-identified': 'female',\n",
        "    'Female (cis)': 'female',\n",
        "    'Female ': 'female',\n",
        "    'F, cisgender': 'female',\n",
        "    'Female-ish': 'female',\n",
        "    'cis female': 'female',\n",
        "    'cis-Female': 'female',\n",
        "    'woman': 'female',\n",
        "    'Transfeminine': 'female',\n",
        "    'man': 'male',\n",
        "    'Male': 'male',\n",
        "    'male': 'male',\n",
        "    'M': 'male',\n",
        "    'cis-male': 'male',\n",
        "    'Mail': 'male',\n",
        "    'Male (cis)': 'male',\n",
        "    'Cis male': 'male',\n",
        "    'Cis-male': 'male',\n",
        "    'Male ': 'male',\n",
        "    'Male, cis': 'male',\n",
        "    'cis male ': 'male',\n",
        "    'Male-ish': 'male',\n",
        "    'Non-binary': np.nan,  # We are excluding non-binary entries\n",
        "    'Genderqueer/non-binary': np.nan,  # We are excluding non-binary entries\n",
        "    'Non binary': np.nan,  # We are excluding non-binary entries\n",
        "    'Genderfluid': np.nan,  # We are excluding non-binary entries\n",
        "    'Agender/genderfluid': np.nan,  # We are excluding non-binary entries\n",
        "    'Nonbinary': np.nan,  # We are excluding non-binary entries\n",
        "    'Genderqueer demigirl': 'female',  # We are excluding non-binary entries\n",
        "    'cis hetero male': np.nan,  # Invalid entry\n",
        "    'uhhhhhhhhh fem genderqueer?': 'female',  # Invalid entry\n",
        "    \"male (hey this is the tech industry you're talking about)\": 'male',  # Invalid entry\n",
        "    'sometimes': np.nan,  # Invalid entry\n",
        "    'God King of the Valajar': np.nan,  # Invalid entry\n",
        "    'Contextual': np.nan,  # Invalid entry\n",
        "    '\\\\-': np.nan,  # Invalid entry\n",
        "    'Trans woman': 'female',  # Invalid entry\n",
        "    'Cis Male': 'male',  # Fix capitalization\n",
        "    'Cis male ': 'male' ,\n",
        "    'Man':'male',\n",
        "    'male/androgynous ':'male',\n",
        "    'm':'male',\n",
        "       'female (cis)':'female', 'female (cisgender)':'female', 'Female (cis) ':'female','trans woman':'female'\n",
        "\n",
        "}\n",
        "\n",
        "DF3['gender'] = DF3['gender'].replace(gender_mapping)\n",
        "\n",
        "\n",
        "mental = DF3[['professional_help', 'gender']]\n",
        "\n",
        "contingency_table = pd.crosstab(mental['professional_help'], mental['gender'])\n",
        "\n",
        "print('Contingency Table:')\n",
        "print(contingency_table)\n",
        "\n",
        "print('\\nNumber of females who sought professional help:', contingency_table.loc[1, 'female'])"
      ],
      "metadata": {
        "colab": {
          "base_uri": "https://localhost:8080/"
        },
        "id": "BvxP30OWg4Fv",
        "outputId": "ab261855-75fd-492c-cdab-322bf69fae73"
      },
      "execution_count": null,
      "outputs": [
        {
          "output_type": "stream",
          "name": "stdout",
          "text": [
            "Contingency Table:\n",
            "gender             dude  female  male  nonbinary\n",
            "professional_help                               \n",
            "0                     1      59   234          0\n",
            "1                     0     165   268          1\n",
            "\n",
            "Number of females who sought professional help: 165\n"
          ]
        }
      ]
    },
    {
      "cell_type": "markdown",
      "source": [
        "**Question4 Answer**"
      ],
      "metadata": {
        "id": "_OEE-XPTFTW5"
      }
    },
    {
      "cell_type": "code",
      "source": [
        "chi2, p, dof, expected = chi2_contingency(contingency_table)\n",
        "\n",
        "print('Chi-square value:', chi2)"
      ],
      "metadata": {
        "colab": {
          "base_uri": "https://localhost:8080/"
        },
        "id": "-K40MzrUnpTo",
        "outputId": "58c27d9f-ad83-489d-fcbb-04cd054efb6d"
      },
      "execution_count": null,
      "outputs": [
        {
          "output_type": "stream",
          "name": "stdout",
          "text": [
            "Chi-square value: 28.598046261301075\n"
          ]
        }
      ]
    },
    {
      "cell_type": "markdown",
      "source": [
        "**Question5 Answer**"
      ],
      "metadata": {
        "id": "MF_nzcdHFWsK"
      }
    },
    {
      "cell_type": "code",
      "source": [
        "observed = contingency_table.loc[1, 'M']\n",
        "expected = expected[1, contingency_table.columns.get_loc('M')]\n",
        "\n",
        "# Calculating Pearson Residual\n",
        "pearson_residual = (observed - expected) / np.sqrt(expected)\n",
        "print(f\"Pearson Residual for male subjects who choose professional help: {pearson_residual:.4f}\")"
      ],
      "metadata": {
        "colab": {
          "base_uri": "https://localhost:8080/"
        },
        "id": "c_bVZ6MOp_-Y",
        "outputId": "f9489a5d-c471-4a88-b410-b9fdc2a109a6"
      },
      "execution_count": null,
      "outputs": [
        {
          "output_type": "stream",
          "name": "stdout",
          "text": [
            "Pearson Residual for male subjects who choose professional help: -1.8656\n"
          ]
        }
      ]
    },
    {
      "cell_type": "markdown",
      "source": [
        "**Question6 Answer**"
      ],
      "metadata": {
        "id": "onrmfxtoFaJy"
      }
    },
    {
      "cell_type": "code",
      "source": [
        "DF2=pd.DataFrame(DS2)"
      ],
      "metadata": {
        "id": "CMiqwYSAq9d-"
      },
      "execution_count": null,
      "outputs": []
    },
    {
      "cell_type": "code",
      "source": [
        "new_df = DF2[['Drug', 'Diff']]\n",
        "\n",
        "model = ols('Diff ~ C(Drug)', data=new_df).fit()\n",
        "anova_results = sm.stats.anova_lm(model, typ=2)\n",
        "\n",
        "grand_mean = new_df['Diff'].mean()\n",
        "print(f\"Grand mean of the new data frame: {grand_mean:.4f}\")\n",
        "print(anova_results)"
      ],
      "metadata": {
        "colab": {
          "base_uri": "https://localhost:8080/"
        },
        "id": "AtY7w0GYrClN",
        "outputId": "f8583975-0a4f-482e-c33b-afa5598479ba"
      },
      "execution_count": null,
      "outputs": [
        {
          "output_type": "stream",
          "name": "stdout",
          "text": [
            "Grand mean of the new data frame: 2.9545\n",
            "                sum_sq     df          F        PR(>F)\n",
            "C(Drug)    4304.785154    2.0  22.711289  1.359214e-09\n",
            "Residual  18480.525755  195.0        NaN           NaN\n"
          ]
        }
      ]
    },
    {
      "cell_type": "markdown",
      "source": [
        "**Question7 Answer**"
      ],
      "metadata": {
        "id": "uaUh5CX7Fk6J"
      }
    },
    {
      "cell_type": "code",
      "source": [
        "grand_degree_of_freedom = anova_results.loc['Residual', 'df']\n",
        "print(f\"Grand degree of freedom: {grand_degree_of_freedom}\")"
      ],
      "metadata": {
        "colab": {
          "base_uri": "https://localhost:8080/"
        },
        "id": "svwO3N6tr2-i",
        "outputId": "56cc9341-8448-4146-dc6e-c5bfd64a11a9"
      },
      "execution_count": null,
      "outputs": [
        {
          "output_type": "stream",
          "name": "stdout",
          "text": [
            "Grand degree of freedom: 195.0\n"
          ]
        }
      ]
    },
    {
      "cell_type": "markdown",
      "source": [
        "**Question8 Answer**"
      ],
      "metadata": {
        "id": "Je9p-5KBFnw8"
      }
    },
    {
      "cell_type": "code",
      "source": [
        "mean_sum_square_residual = anova_results.loc['Residual', 'sum_sq'] / anova_results.loc['Residual', 'df']\n",
        "print(f\"Mean Sum Square of Residual: {mean_sum_square_residual:.4f}\")"
      ],
      "metadata": {
        "colab": {
          "base_uri": "https://localhost:8080/"
        },
        "id": "rhS_sdL_sP2y",
        "outputId": "9fc28529-7fce-43ae-f82b-c8e4a5eb7646"
      },
      "execution_count": null,
      "outputs": [
        {
          "output_type": "stream",
          "name": "stdout",
          "text": [
            "Mean Sum Square of Residual: 94.7719\n"
          ]
        }
      ]
    }
  ]
}